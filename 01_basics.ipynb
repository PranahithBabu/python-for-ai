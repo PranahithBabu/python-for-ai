{
  "nbformat": 4,
  "nbformat_minor": 0,
  "metadata": {
    "colab": {
      "provenance": [],
      "mount_file_id": "1F16PMiWiGC7EgZWHvGnlRZQWfVfHhd5F",
      "authorship_tag": "ABX9TyOjOPpVvYgSksX00PDMV3kX",
      "include_colab_link": true
    },
    "kernelspec": {
      "name": "python3",
      "display_name": "Python 3"
    },
    "language_info": {
      "name": "python"
    }
  },
  "cells": [
    {
      "cell_type": "markdown",
      "metadata": {
        "id": "view-in-github",
        "colab_type": "text"
      },
      "source": [
        "<a href=\"https://colab.research.google.com/github/PranahithBabu/python-for-ai/blob/main/01_basics.ipynb\" target=\"_parent\"><img src=\"https://colab.research.google.com/assets/colab-badge.svg\" alt=\"Open In Colab\"/></a>"
      ]
    },
    {
      "cell_type": "code",
      "execution_count": null,
      "metadata": {
        "colab": {
          "base_uri": "https://localhost:8080/"
        },
        "id": "rxdtr6ygVX66",
        "outputId": "cddcfa3b-e9e1-4cac-9184-8748e5bf92d1"
      },
      "outputs": [
        {
          "output_type": "stream",
          "name": "stdout",
          "text": [
            "Beginning AI jounrney with Python\n"
          ]
        }
      ],
      "source": [
        "print(\"Beginning AI jounrney with Python\")"
      ]
    },
    {
      "cell_type": "markdown",
      "source": [
        "### Comments\n",
        " - Single line comments with #\n",
        " - Multi line comments start & end with \"\"\""
      ],
      "metadata": {
        "id": "1Om3ymUtwSyZ"
      }
    },
    {
      "cell_type": "code",
      "source": [
        "# Single line comment\n",
        "\n",
        "\"\"\" This\n",
        "  is\n",
        "  a\n",
        "  multi line\n",
        "  comment\n",
        "  \"\"\""
      ],
      "metadata": {
        "id": "fg0dzyhHmwaz"
      },
      "execution_count": 5,
      "outputs": []
    },
    {
      "cell_type": "markdown",
      "metadata": {
        "id": "5d39e885"
      },
      "source": [
        "### Variables and Data Types\n",
        "- **Variables**: Named storage locations for data. Declared in small case with underscore in between.\n",
        "- **Assignment**: Using the `=` operator to assign values to variables.\n",
        "- **Data Types**:\n",
        "  - **Integers (`int`)**: Whole numbers (e.g., `5`, `-10`).\n",
        "  - **Floating-point numbers (`float`)**: Numbers with decimal points (e.g., `3.14`, `-0.5`).\n",
        "  - **Strings (`str`)**: Sequences of characters enclosed in quotes (e.g., `\"hello\"`, `'world'`).\n",
        "  - **Booleans (`bool`)**: Represent truth values (`True` or `False`).\n",
        "  - **Lists (`list`)**: Ordered, mutable collections of items enclosed in square brackets (e.g., `[1, 2, 3]`, `['a', 'b']`).\n",
        "  - **Tuples (`tuple`)**: Ordered, immutable collections of items enclosed in parentheses (e.g., `(1, 2)`, `('x', 'y')`).\n",
        "  - **Dictionaries (`dict`)**: Unordered collections of key-value pairs enclosed in curly braces (e.g., `{'name': 'Alice', 'age': 30}`).\n",
        "- **Constants**: Fixed values are declared in capital case letter with underscore in between and has global level access, which is across the classes and function in the program."
      ]
    },
    {
      "cell_type": "markdown",
      "metadata": {
        "id": "7d80de5e"
      },
      "source": [
        "### Practice Questions: Variables and Data Types"
      ]
    },
    {
      "cell_type": "code",
      "metadata": {
        "colab": {
          "base_uri": "https://localhost:8080/"
        },
        "id": "f9a3c212",
        "outputId": "a5d4f36d-3929-49b7-ec3f-5a292fd47161"
      },
      "source": [
        "# 1. Create a variable called 'my_integer' and assign it the value 10.\n",
        "# 2. Create a variable called 'my_float' and assign it the value 3.14.\n",
        "# 3. Create a variable called 'my_string' and assign it the value \"Hello, Python!\".\n",
        "# 4. Create a variable called 'my_boolean' and assign it the value True.\n",
        "# 5. Create a list called 'my_list' with the numbers 1, 2, and 3.\n",
        "# 6. Create a tuple called 'my_tuple' with the strings \"apple\" and \"banana\".\n",
        "# 7. Create a dictionary called 'my_dictionary' with keys 'name' and 'age' and values 'Alice' and 30 respectively.\n",
        "# 8. Print the type of each of the variables you created.\n",
        "\n",
        "# Write your code below this line:\n",
        "my_integer =  10\n",
        "my_float = 3.14\n",
        "my_string = \"Hello, Python!\"\n",
        "my_boolean = True\n",
        "my_list = [1,2,3]\n",
        "my_tuple = (\"apple\", \"banana\")\n",
        "my_dict = {\"name\": \"John\", \"age\": 20}\n",
        "type(my_tuple)"
      ],
      "execution_count": 6,
      "outputs": [
        {
          "output_type": "execute_result",
          "data": {
            "text/plain": [
              "tuple"
            ]
          },
          "metadata": {},
          "execution_count": 6
        }
      ]
    },
    {
      "cell_type": "markdown",
      "metadata": {
        "id": "ffe14260"
      },
      "source": [
        "### Operators\n",
        "\n",
        "- **Arithmetic Operators**: Perform mathematical operations.\n",
        "  - `+` (Addition)\n",
        "  - `-` (Subtraction)\n",
        "  - `*` (Multiplication)\n",
        "  - `/` (Division)\n",
        "  - `//` (Floor Division - returns the integer part of the quotient)\n",
        "  - `%` (Modulo - returns the remainder of the division)\n",
        "  - `**` (Exponentiation)\n",
        "- **Comparison Operators**: Compare values and return `True` or `False`.\n",
        "  - `==` (Equal to)\n",
        "  - `!=` (Not equal to)\n",
        "  - `>` (Greater than)\n",
        "  - `<` (Less than)\n",
        "  - `>=` (Greater than or equal to)\n",
        "  - `<=` (Less than or equal to)\n",
        "- **Logical Operators**: Combine boolean expressions.\n",
        "  - `and`: Returns `True` if both operands are `True`.\n",
        "  - `or`: Returns `True` if at least one operand is `True`.\n",
        "  - `not`: Reverses the boolean value of the operand.\n",
        "- **Bitwise Operators**: Operate on individual bits of integers.\n",
        "  - `&` (Bitwise AND): Sets each bit to 1 if both bits are 1.\n",
        "  - `|` (Bitwise OR): Sets each bit to 1 if either bit is 1.\n",
        "  - `^` (Bitwise XOR): Sets each bit to 1 if only one of the two bits is 1.\n",
        "  - `~` (Bitwise NOT): Inverts all the bits.\n",
        "  - `<<` (Left Shift): Shifts the bits to the left by a specified number of positions.\n",
        "  - `>>` (Right Shift): Shifts the bits to the right by a specified number of positions."
      ]
    },
    {
      "cell_type": "markdown",
      "metadata": {
        "id": "bee72d71"
      },
      "source": [
        "### Practice Questions: Operators"
      ]
    },
    {
      "cell_type": "code",
      "metadata": {
        "colab": {
          "base_uri": "https://localhost:8080/"
        },
        "id": "9b0ab9ad",
        "outputId": "0eddc7b1-528f-4b58-8aae-773c1d852838"
      },
      "source": [
        "# 1. Calculate the sum of 25 and 15 using the addition operator and print the result.\n",
        "# 2. Calculate the difference between 50 and 20 using the subtraction operator and print the result.\n",
        "# 3. Calculate the product of 7 and 8 using the multiplication operator and print the result.\n",
        "# 4. Calculate the division of 100 by 4 using the division operator and print the result.\n",
        "# 5. Calculate the floor division of 100 by 3 and print the result.\n",
        "# 6. Calculate the remainder of 100 divided by 3 using the modulo operator and print the result.\n",
        "# 7. Calculate 2 to the power of 5 using the exponentiation operator and print the result.\n",
        "# 8. Check if 10 is equal to 10 using the equality operator and print the result.\n",
        "# 9. Check if 10 is not equal to 5 using the inequality operator and print the result.\n",
        "# 10. Check if 20 is greater than 15 and 10 is less than 12 using the logical 'and' operator and print the result.\n",
        "# 11. Check if 5 is greater than 10 or 15 is less than 20 using the logical 'or' operator and print the result.\n",
        "# 12. Negate the boolean value True using the logical 'not' operator and print the result.\n",
        "\n",
        "# Write your code below this line:\n",
        "print(25+15)\n",
        "print(50-20)\n",
        "print(7*8)\n",
        "print(100/4)\n",
        "print(100//3)\n",
        "print(100 % 3)\n",
        "print(2**5)\n",
        "print(10==10)\n",
        "print(10!=5)\n",
        "print(20>15 and 10<12)\n",
        "print(5>10 or 15<20)\n",
        "print(not True)\n",
        "\n",
        "print(5*4/2)"
      ],
      "execution_count": 46,
      "outputs": [
        {
          "output_type": "stream",
          "name": "stdout",
          "text": [
            "40\n",
            "30\n",
            "56\n",
            "25.0\n",
            "33\n",
            "1\n",
            "32\n",
            "True\n",
            "True\n",
            "True\n",
            "True\n",
            "False\n",
            "10.0\n"
          ]
        }
      ]
    },
    {
      "cell_type": "markdown",
      "metadata": {
        "id": "57e08d90"
      },
      "source": [
        "### Type Conversion\n",
        "\n",
        "- **Implicit Type Conversion (Coercion)**: Python automatically converts one data type to another in some situations (e.g., adding an integer to a float results in a float).\n",
        "\n",
        "- **Explicit Type Conversion (Casting)**: You explicitly convert data from one type to another using built-in functions.\n",
        "  - `int()`: Converts to an integer.\n",
        "  - `float()`: Converts to a float.\n",
        "  - `str()`: Converts to a string.\n",
        "  - `list()`: Converts to a list.\n",
        "  - `tuple()`: Converts to a tuple.\n",
        "  - `dict()`: Converts to a dictionary (from a sequence of key-value pairs)."
      ]
    },
    {
      "cell_type": "markdown",
      "metadata": {
        "id": "74268a39"
      },
      "source": [
        "### Practice Questions: Type Conversion"
      ]
    },
    {
      "cell_type": "code",
      "metadata": {
        "colab": {
          "base_uri": "https://localhost:8080/"
        },
        "id": "dc867bdf",
        "outputId": "65253498-1a01-46f5-a9d0-f805e225ad56"
      },
      "source": [
        "# 1. Convert the integer 10 to a float and print the result.\n",
        "# 2. Convert the float 3.14 to an integer and print the result.\n",
        "# 3. Convert the integer 25 to a string and print the result.\n",
        "# 4. Convert the string \"123\" to an integer and print the result.\n",
        "# 5. Convert the string \"3.14\" to a float and print the result.\n",
        "# 6. Convert the list [1, 2, 3] to a tuple and print the result.\n",
        "# 7. Convert the tuple (1, 2, 3) to a list and print the result.\n",
        "# 8. Convert the string \"hello\" to a list of characters and print the result.\n",
        "\n",
        "# Write your code below this line:\n",
        "a = 10\n",
        "print(a)\n",
        "b = float(a)\n",
        "print(b)\n",
        "print(type(a))\n",
        "print(type(b))\n",
        "\n",
        "c = str(a)\n",
        "print(c)\n",
        "print(type(c))\n",
        "li = [1,2,3]\n",
        "print(type(li))\n",
        "tu = tuple(li)\n",
        "print(type(tu))\n",
        "\n",
        "x = \"hello\"\n",
        "x_li = list(x)\n",
        "print(x_li)"
      ],
      "execution_count": 38,
      "outputs": [
        {
          "output_type": "stream",
          "name": "stdout",
          "text": [
            "10\n",
            "10.0\n",
            "<class 'int'>\n",
            "<class 'float'>\n",
            "10\n",
            "<class 'str'>\n",
            "<class 'list'>\n",
            "<class 'tuple'>\n",
            "['h', 'e', 'l', 'l', 'o']\n"
          ]
        }
      ]
    },
    {
      "cell_type": "code",
      "source": [
        "# Library import\n",
        "# There are library functions in python which are handy to do simple/complex operations on data.\n",
        "# Alias is useful for shortening the library name for multiple use.\n",
        "import math as m\n",
        "print(m.pow(2,3))"
      ],
      "metadata": {
        "colab": {
          "base_uri": "https://localhost:8080/"
        },
        "id": "ONZeetolRbBH",
        "outputId": "9e0d6d11-8a7f-4df8-a83d-51ef4641b4e4"
      },
      "execution_count": 64,
      "outputs": [
        {
          "output_type": "stream",
          "name": "stdout",
          "text": [
            "8.0\n"
          ]
        }
      ]
    },
    {
      "cell_type": "code",
      "source": [
        "# Specific function from a library can be imported as below\n",
        "from math import pow\n",
        "print(pow(2,4))"
      ],
      "metadata": {
        "colab": {
          "base_uri": "https://localhost:8080/"
        },
        "id": "j7sEKAASTVcQ",
        "outputId": "50d11fc0-c4d2-42e2-f1b0-4ee6eb446db5"
      },
      "execution_count": 63,
      "outputs": [
        {
          "output_type": "stream",
          "name": "stdout",
          "text": [
            "16.0\n"
          ]
        }
      ]
    },
    {
      "cell_type": "markdown",
      "source": [
        "# User Input"
      ],
      "metadata": {
        "id": "KMVe4P56PJO4"
      }
    },
    {
      "cell_type": "code",
      "source": [
        "# By default input is considered as string type\n",
        "a = input(\"Enter 1st number: \")\n",
        "b = input(\"Enter 2nd number: \")\n",
        "print(a+b)"
      ],
      "metadata": {
        "colab": {
          "base_uri": "https://localhost:8080/"
        },
        "id": "K6q5DhFFKHKL",
        "outputId": "f7484afa-9727-4985-c568-5bc633e7b52b"
      },
      "execution_count": 50,
      "outputs": [
        {
          "output_type": "stream",
          "name": "stdout",
          "text": [
            "Enter 1st number: 5\n",
            "Enter 2nd number: 6\n",
            "56\n"
          ]
        }
      ]
    },
    {
      "cell_type": "code",
      "source": [
        "# Casting input to required type\n",
        "a = int(input(\"Enter 1st number: \"))\n",
        "b = int(input(\"Enter 2nd number: \"))\n",
        "print(a+b)"
      ],
      "metadata": {
        "colab": {
          "base_uri": "https://localhost:8080/"
        },
        "id": "8krnN7KEPWje",
        "outputId": "42dabc82-6ee7-48f5-d1c7-72c02aa9789a"
      },
      "execution_count": 51,
      "outputs": [
        {
          "output_type": "stream",
          "name": "stdout",
          "text": [
            "Enter 1st number: 5\n",
            "Enter 2nd number: 6\n",
            "11\n"
          ]
        }
      ]
    },
    {
      "cell_type": "code",
      "source": [
        "# Adding requirement check on user input to avoid irregular data\n",
        "\n",
        "# To take a character only\n",
        "ch = input(\"Enter character: \")[0]\n",
        "print(ch)\n",
        "print(\"Received: \"+ch)"
      ],
      "metadata": {
        "colab": {
          "base_uri": "https://localhost:8080/"
        },
        "id": "x-WAYLUIPmc_",
        "outputId": "3a4a3648-c9a9-46b7-eb6d-8af736b2e4e0"
      },
      "execution_count": 57,
      "outputs": [
        {
          "output_type": "stream",
          "name": "stdout",
          "text": [
            "Enter character: xyz\n",
            "x\n",
            "Received: x\n"
          ]
        }
      ]
    },
    {
      "cell_type": "code",
      "source": [
        "# Evaluating expression at input level\n",
        "res = eval(input(\"Evaluate expression: \"))\n",
        "print(res)"
      ],
      "metadata": {
        "colab": {
          "base_uri": "https://localhost:8080/"
        },
        "id": "XRRzRH7tQB8Q",
        "outputId": "af8bf694-e662-4957-ed3e-d34123bea435"
      },
      "execution_count": 58,
      "outputs": [
        {
          "output_type": "stream",
          "name": "stdout",
          "text": [
            "Evaluate expression: 2+3*8\n",
            "26\n"
          ]
        }
      ]
    },
    {
      "cell_type": "code",
      "source": [
        "# File level execution with user input\n",
        "\n",
        "# import sys as s\n",
        "# x = int(s.argv[1])\n",
        "# y = int(s.argv[2])\n",
        "# print(x+y)"
      ],
      "metadata": {
        "id": "u8Nv6gkWQxpL"
      },
      "execution_count": 67,
      "outputs": []
    },
    {
      "cell_type": "markdown",
      "source": [
        "# Mini Project 1 - Simple CLI Calculator"
      ],
      "metadata": {
        "id": "D0EQW620UfY7"
      }
    },
    {
      "cell_type": "code",
      "source": [],
      "metadata": {
        "id": "cihbNuv6aAPx"
      },
      "execution_count": null,
      "outputs": []
    }
  ]
}