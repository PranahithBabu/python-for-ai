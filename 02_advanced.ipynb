{
  "nbformat": 4,
  "nbformat_minor": 0,
  "metadata": {
    "colab": {
      "provenance": [],
      "authorship_tag": "ABX9TyMMhGtZD+lDRPvoD5gnS2I4",
      "include_colab_link": true
    },
    "kernelspec": {
      "name": "python3",
      "display_name": "Python 3"
    },
    "language_info": {
      "name": "python"
    }
  },
  "cells": [
    {
      "cell_type": "markdown",
      "metadata": {
        "id": "view-in-github",
        "colab_type": "text"
      },
      "source": [
        "<a href=\"https://colab.research.google.com/github/PranahithBabu/python-for-ai/blob/main/02_advanced.ipynb\" target=\"_parent\"><img src=\"https://colab.research.google.com/assets/colab-badge.svg\" alt=\"Open In Colab\"/></a>"
      ]
    },
    {
      "cell_type": "markdown",
      "source": [
        "# Arrays\n",
        "- It is mutable.\n",
        "- Size is dynamic.\n",
        "- Stores same data type elements.\n",
        "- **array** module should be imported.\n",
        "- **Type code** of data should be mentioned.\n",
        "\n",
        "![image.png](https://www.askpython.com/wp-content/uploads/2019/09/python-array-supported-type-code-1024x624.png.webp)"
      ],
      "metadata": {
        "id": "tm7chbC6xAoN"
      }
    },
    {
      "cell_type": "code",
      "execution_count": 4,
      "metadata": {
        "colab": {
          "base_uri": "https://localhost:8080/"
        },
        "id": "S7al4zjNwzSv",
        "outputId": "4e9387a6-1ff5-4c44-9200-f2aac4e5baee"
      },
      "outputs": [
        {
          "output_type": "stream",
          "name": "stdout",
          "text": [
            "array('i', [3, 4, 1, 8, 9])\n",
            "3\n",
            "4\n",
            "1\n",
            "8\n",
            "9\n"
          ]
        }
      ],
      "source": [
        "import array as arr\n",
        "\n",
        "vals = arr.array('i',[3,4,1,8,9])\n",
        "# vals.reverse()\n",
        "print(vals)\n",
        "\n",
        "for i in vals:\n",
        "  print(i)\n"
      ]
    },
    {
      "cell_type": "code",
      "source": [
        "# Create array with 5 values and delete value at index number 2\n",
        "delArr = arr.array('i',[3,2,1,5,6])\n",
        "\n",
        "delArr.remove(2)\n",
        "print(delArr)"
      ],
      "metadata": {
        "colab": {
          "base_uri": "https://localhost:8080/"
        },
        "id": "CVlNm3PVJmNm",
        "outputId": "b33f3e90-b182-47a7-eab0-106affbdd2b2"
      },
      "execution_count": 5,
      "outputs": [
        {
          "output_type": "stream",
          "name": "stdout",
          "text": [
            "array('i', [3, 1, 5, 6])\n"
          ]
        }
      ]
    }
  ]
}